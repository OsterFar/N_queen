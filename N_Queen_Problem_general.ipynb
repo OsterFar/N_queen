{
  "nbformat": 4,
  "nbformat_minor": 0,
  "metadata": {
    "colab": {
      "name": "N-Queen-Problem.ipynb",
      "provenance": [],
      "collapsed_sections": [],
      "authorship_tag": "ABX9TyNO4lvndbDtO8AZ/H6mipsI",
      "include_colab_link": true
    },
    "kernelspec": {
      "name": "python3",
      "display_name": "Python 3"
    },
    "language_info": {
      "name": "python"
    }
  },
  "cells": [
    {
      "cell_type": "markdown",
      "metadata": {
        "id": "view-in-github",
        "colab_type": "text"
      },
      "source": [
        "<a href=\"https://colab.research.google.com/github/OsterFar/N_queen/blob/main/N_Queen_Problem_general.ipynb\" target=\"_parent\"><img src=\"https://colab.research.google.com/assets/colab-badge.svg\" alt=\"Open In Colab\"/></a>"
      ]
    },
    {
      "cell_type": "code",
      "metadata": {
        "id": "JtIPe2ZLfMge"
      },
      "source": [
        "class return_type :\n",
        "  flag = 0 \n",
        "  def __init__(self , b,f):\n",
        "    self.board = b\n",
        "    self.flag  = f"
      ],
      "execution_count": 3,
      "outputs": []
    },
    {
      "cell_type": "code",
      "metadata": {
        "id": "eY8tnQuE5Sc3"
      },
      "source": [
        "import copy"
      ],
      "execution_count": 4,
      "outputs": []
    },
    {
      "cell_type": "code",
      "metadata": {
        "id": "ORX7D4jQQ8qu"
      },
      "source": [
        "def n_queen(board , n , i ) :\n",
        "  \n",
        "  #Base Condition \n",
        "  if i == n :\n",
        "    #(\"------------------------------s\")\n",
        "    return return_type(board , 1) \n",
        "  \n",
        "  else :\n",
        "    \n",
        "    \n",
        "    #================================\n",
        "    #-------For row 0 \n",
        "    #================================\n",
        "   \n",
        "\n",
        "    \n",
        "    #================================\n",
        "    #-------For row 1\n",
        "    #================================\n",
        "    for ii in range(n) :\n",
        "      if board[ii][i] == '0' :\n",
        "        #print(\"here\")\n",
        "        Board_temp = copy.deepcopy( board )\n",
        "        temp = copy.deepcopy ( board  )\n",
        "\n",
        "        #(\"putting==\",i+1,\"at\",i,1)\n",
        "\n",
        "        #-------------------------------------------\n",
        "        # REMOVING ALL THE DOMAIN FOR CORRESPONDING QUEENS\n",
        "        #-------------------------------------------\n",
        "\n",
        "        for jj in range(n) :\n",
        "          try :\n",
        "            Board_temp[ii+(jj+1)][i] = '1' \n",
        "          except  : \n",
        "              pass  \n",
        "          \n",
        "          try :\n",
        "            Board_temp[ii+(jj+1)][i+(jj+1)] = '1'\n",
        "          except  : \n",
        "            pass\n",
        "\n",
        "          try :\n",
        "            Board_temp[ii][i+(jj+1)] = '1'\n",
        "          except  : \n",
        "              pass\n",
        "          try :\n",
        "            if i-(jj+1) >= 0 and i-(jj+1) < n :\n",
        "              Board_temp[0][i-(jj+1)] = '1'\n",
        "              if ii-(jj+1) >= 0 and ii-(jj+1) < n :\n",
        "                Board_temp[ii-(jj+1)][i-(jj+1)] = '1' \n",
        "            if ii-(jj+1) >= 0 and ii-(jj+1) < n :\n",
        "              Board_temp[ii-(jj+1)][i] = '1'\n",
        "          except :\n",
        "            pass \n",
        "          try :\n",
        "            if i+(jj+1) >= 0 and i+(jj+1) < n :\n",
        "              if ii-(jj+1) >= 0 and ii-(jj+1) < n :\n",
        "                Board_temp[ii-(jj+1)][i+(jj+1)] = '1'\n",
        "          except :\n",
        "            pass \n",
        "        \n",
        "        Global_Queen[i] = '[{0}][{1}]'.format(ii,i)\n",
        "        Board_temp[ii][i] = 'Q{0}'.format(i+1)\n",
        "        #(Board_temp)\n",
        "        Object = n_queen( Board_temp , n , i + 1 )\n",
        "        if Object.flag == 1 :\n",
        "          #(\"yes\")\n",
        "          board = Object.board\n",
        "          return return_type(board , 1)\n",
        "        else :\n",
        "          #(\"no\")\n",
        "          board = temp\n",
        "        #(\"return\",i,board,Object.flag)\n",
        "\n",
        "          \n",
        "    \n",
        "    return return_type(board , 0)\n",
        "      \n",
        "  \n",
        "    "
      ],
      "execution_count": 22,
      "outputs": []
    },
    {
      "cell_type": "code",
      "metadata": {
        "colab": {
          "base_uri": "https://localhost:8080/"
        },
        "id": "SEYmmfMzPcl4",
        "outputId": "6d46e85d-64d7-4282-e3eb-e49c25cf4101"
      },
      "source": [
        "#main \n",
        "n = int(input()) # queen\n",
        "board = [['0' for i in range (n)] for i in range(n) ]\n",
        "Global_Queen = ['0' for i in range(n)]\n",
        "board =  n_queen(board , n , 0).board \n",
        "#print(board)\n",
        "print(\"Queen Positions for Q1 , Q2 , Q3 , Q4 respectively \" , Global_Queen)"
      ],
      "execution_count": 23,
      "outputs": [
        {
          "output_type": "stream",
          "text": [
            "4\n",
            "Queen Positions for Q1 , Q2 , Q3 , Q4 respectively  ['[1][0]', '[3][1]', '[0][2]', '[2][3]']\n"
          ],
          "name": "stdout"
        }
      ]
    },
    {
      "cell_type": "code",
      "metadata": {
        "id": "1BhBDQ7LR669"
      },
      "source": [
        ""
      ],
      "execution_count": 23,
      "outputs": []
    },
    {
      "cell_type": "code",
      "metadata": {
        "id": "ZyuJq3-GfHym"
      },
      "source": [
        ""
      ],
      "execution_count": null,
      "outputs": []
    }
  ]
}