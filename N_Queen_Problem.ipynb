{
  "nbformat": 4,
  "nbformat_minor": 0,
  "metadata": {
    "colab": {
      "name": "N-Queen-Problem.ipynb",
      "provenance": [],
      "collapsed_sections": [],
      "authorship_tag": "ABX9TyOSxbnH9bmBjxoZOsJc7GYy",
      "include_colab_link": true
    },
    "kernelspec": {
      "name": "python3",
      "display_name": "Python 3"
    },
    "language_info": {
      "name": "python"
    }
  },
  "cells": [
    {
      "cell_type": "markdown",
      "metadata": {
        "id": "view-in-github",
        "colab_type": "text"
      },
      "source": [
        "<a href=\"https://colab.research.google.com/github/OsterFar/N_queen/blob/main/N_Queen_Problem.ipynb\" target=\"_parent\"><img src=\"https://colab.research.google.com/assets/colab-badge.svg\" alt=\"Open In Colab\"/></a>"
      ]
    },
    {
      "cell_type": "code",
      "metadata": {
        "id": "JtIPe2ZLfMge"
      },
      "source": [
        "class return_type :\n",
        "  def __init__(self , b,f):\n",
        "    self.board = b\n",
        "    self.flag  = f"
      ],
      "execution_count": 3,
      "outputs": []
    },
    {
      "cell_type": "code",
      "metadata": {
        "id": "ORX7D4jQQ8qu"
      },
      "source": [
        "def n_queen(board , n , i ) :\n",
        "  \n",
        "  #Base Condition \n",
        "  if i == n :\n",
        "    return return_type(board , 1) \n",
        "  \n",
        "  else :\n",
        "    if board[0][i] == '0' :\n",
        "      okey = board\n",
        "\n",
        "      print(\"putting==\",i+1,\"at\",i,0)\n",
        "\n",
        "      for jj in range(n) :\n",
        "        try :\n",
        "          okey[0+jj+1][i] = '1' \n",
        "          okey[0+jj+1][i+jj+1] = '1'\n",
        "          okey[0][i+jj+1] = '1'\n",
        "     \n",
        "        except  : \n",
        "          pass\n",
        "      okey[0][i] = 'Q{0}'.format(i+1)\n",
        "      print(okey)\n",
        "      Object = n_queen( okey , n , i + 1 )\n",
        "      if Object.flag == 1 :\n",
        "        print(\"yes\")\n",
        "        board = Object.board\n",
        "        return_type(board , 1)\n",
        "      print(\"return\",i,board)\n",
        "\n",
        "    \n",
        "\n",
        "    if board[1][i] == '0' :\n",
        "      okey = board\n",
        "\n",
        "      print(\"putting==\",i+1,\"at\",i,1)\n",
        "\n",
        "      for jj in range(n) :\n",
        "        try :\n",
        "          okey[1+jj+1][i] = '1' \n",
        "          okey[1+jj+1][i+jj+1] = '1'\n",
        "          okey[1][i+jj+1] = '1'\n",
        "            \n",
        "        except  : \n",
        "            pass\n",
        "      okey[1][i] = 'Q{0}'.format(i+1)\n",
        "      print(okey)\n",
        "      Object = n_queen( okey , n , i + 1 )\n",
        "      if Object.flag == 1 :\n",
        "        print(\"yes\")\n",
        "        board = Object.board\n",
        "        return_type(board , 1)\n",
        "      print(\"return\",i,board)\n",
        "\n",
        "    if board[2][i] == '0' :\n",
        "      okey = board\n",
        "\n",
        "      print(\"putting==\",i+1,\"at\",i,2)\n",
        "      for jj in range(n) :\n",
        "        try :\n",
        "          okey[2+jj+1][i] = '1' \n",
        "          okey[2+jj+1][i+jj+1] = '1'\n",
        "          okey[2][i+jj+1] = '1'\n",
        "           \n",
        "        except  : \n",
        "            pass\n",
        "      okey[2][i]= 'Q{0}'.format(i+1)\n",
        "      print(okey)\n",
        "      Object = n_queen( okey , n , i + 1 )\n",
        "      if Object.flag == 1 :\n",
        "        print(\"yes\")\n",
        "        board = Object.board\n",
        "        return_type(board , 1)\n",
        "      print(\"return\",i,board)\n",
        "\n",
        "    if board[3][i] == '0' :\n",
        "      okey = board\n",
        "      print(\"putting==\",i+1,\"at\",i,3)\n",
        "      for jj in range(n) :\n",
        "        try :\n",
        "          okey[3+jj+1][i] = '1' \n",
        "          okey[3+jj+1][i+jj+1] = '1'\n",
        "          okey[3][i+jj+1] = '1'\n",
        "          \n",
        "        except  : \n",
        "            pass\n",
        "      okey[3][i] = 'Q{0}'.format(i+1)\n",
        "      print(okey)\n",
        "      Object = n_queen( okey , n , i + 1 )\n",
        "      if Object.flag == 1 :\n",
        "        print(\"yes\")\n",
        "        board = Object.board\n",
        "        return_type(board , 1)\n",
        "      print(\"return\",i,board)\n",
        "  \n",
        "    return return_type(board , 0)\n",
        "  \n",
        "  #print(board)"
      ],
      "execution_count": 4,
      "outputs": []
    },
    {
      "cell_type": "code",
      "metadata": {
        "colab": {
          "base_uri": "https://localhost:8080/"
        },
        "id": "SEYmmfMzPcl4",
        "outputId": "3d7d0523-b55b-473e-ac01-82cb3eade808"
      },
      "source": [
        "#main \n",
        "n = 4 # queen\n",
        "board = [['0','0','0','0'] for i in range(n) ]\n",
        "print( n_queen(board , n , 0).board )"
      ],
      "execution_count": 5,
      "outputs": [
        {
          "output_type": "stream",
          "text": [
            "putting== 1 at 0 0\n",
            "[['Q1', '1', '1', '1'], ['1', '1', '0', '0'], ['1', '0', '1', '0'], ['1', '0', '0', '1']]\n",
            "putting== 2 at 1 2\n",
            "[['Q1', '1', '1', '1'], ['1', '1', '0', '0'], ['1', 'Q2', '1', '0'], ['1', '1', '1', '1']]\n",
            "putting== 3 at 2 1\n",
            "[['Q1', '1', '1', '1'], ['1', '1', 'Q3', '1'], ['1', 'Q2', '1', '1'], ['1', '1', '1', '1']]\n",
            "return 2 [['Q1', '1', '1', '1'], ['1', '1', 'Q3', '1'], ['1', 'Q2', '1', '1'], ['1', '1', '1', '1']]\n",
            "return 1 [['Q1', '1', '1', '1'], ['1', '1', 'Q3', '1'], ['1', 'Q2', '1', '1'], ['1', '1', '1', '1']]\n",
            "return 0 [['Q1', '1', '1', '1'], ['1', '1', 'Q3', '1'], ['1', 'Q2', '1', '1'], ['1', '1', '1', '1']]\n",
            "[['Q1', '1', '1', '1'], ['1', '1', 'Q3', '1'], ['1', 'Q2', '1', '1'], ['1', '1', '1', '1']]\n"
          ],
          "name": "stdout"
        }
      ]
    },
    {
      "cell_type": "code",
      "metadata": {
        "id": "1BhBDQ7LR669"
      },
      "source": [
        ""
      ],
      "execution_count": null,
      "outputs": []
    },
    {
      "cell_type": "code",
      "metadata": {
        "id": "ZyuJq3-GfHym"
      },
      "source": [
        ""
      ],
      "execution_count": null,
      "outputs": []
    }
  ]
}